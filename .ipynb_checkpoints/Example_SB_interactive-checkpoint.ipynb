{
 "cells": [
  {
   "cell_type": "code",
   "execution_count": 1,
   "id": "fdb0fc3e",
   "metadata": {},
   "outputs": [
    {
     "data": {
      "application/vnd.jupyter.widget-view+json": {
       "model_id": "51e5d850d1aa4b5bb21d136dc4c31726",
       "version_major": 2,
       "version_minor": 0
      },
      "text/plain": [
       "interactive(children=(FloatSlider(value=40.0, description='green', max=360.0, step=1.0), FloatSlider(value=80.…"
      ]
     },
     "metadata": {},
     "output_type": "display_data"
    },
    {
     "data": {
      "application/vnd.jupyter.widget-view+json": {
       "model_id": "014c55132d0549a08aeea5c5649ff9b8",
       "version_major": 2,
       "version_minor": 0
      },
      "text/plain": [
       "interactive(children=(FloatSlider(value=40.0, description='green', max=360.0, step=1.0), FloatSlider(value=80.…"
      ]
     },
     "metadata": {},
     "output_type": "display_data"
    }
   ],
   "source": [
    "import numpy as np\n",
    "\n",
    "\n",
    "from SB_patches_interactive_plotter import generate_set_code\n",
    "\n",
    "# Example data for Set 1\n",
    "L1 = np.linspace(0, 360, 100)  # Longitude data\n",
    "B1 = np.random.rand(100)       # Magnetic field data\n",
    "L1_v = np.linspace(0, 360, 100)  # Longitude data for velocity\n",
    "V1 = np.random.rand(100)       # Velocity data\n",
    "\n",
    "# Call function to create interactive plots for Set 1\n",
    "generate_set_code(1, L1, B1, L1_v, V1)\n"
   ]
  },
  {
   "cell_type": "code",
   "execution_count": null,
   "id": "f4645904",
   "metadata": {},
   "outputs": [],
   "source": []
  },
  {
   "cell_type": "code",
   "execution_count": null,
   "id": "081a5953",
   "metadata": {},
   "outputs": [],
   "source": []
  },
  {
   "cell_type": "code",
   "execution_count": null,
   "id": "b1946371",
   "metadata": {},
   "outputs": [],
   "source": []
  }
 ],
 "metadata": {
  "kernelspec": {
   "display_name": "Python 3",
   "language": "python",
   "name": "python3"
  },
  "language_info": {
   "codemirror_mode": {
    "name": "ipython",
    "version": 3
   },
   "file_extension": ".py",
   "mimetype": "text/x-python",
   "name": "python",
   "nbconvert_exporter": "python",
   "pygments_lexer": "ipython3",
   "version": "3.8.15"
  }
 },
 "nbformat": 4,
 "nbformat_minor": 5
}
