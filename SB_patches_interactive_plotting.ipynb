{
 "cells": [
  {
   "cell_type": "code",
   "execution_count": 1,
   "id": "583b9745",
   "metadata": {},
   "outputs": [],
   "source": [
    "import numpy as np\n",
    "import matplotlib.pyplot as plt\n",
    "\n",
    "import pandas as pd\n",
    "from ipywidgets import interact, FloatSlider\n"
   ]
  },
  {
   "cell_type": "code",
   "execution_count": 2,
   "id": "a0f51692",
   "metadata": {},
   "outputs": [],
   "source": [
    "## Load in CDF Files\n",
    "def load_csv_files(filename):\n",
    "    data = pd.read_csv(filename, sep=',')\n",
    "    return data"
   ]
  },
  {
   "cell_type": "code",
   "execution_count": 3,
   "id": "8af54109",
   "metadata": {},
   "outputs": [],
   "source": [
    "#reading data files\n",
    "\n",
    "psp_df_29_30_median_filtered= load_csv_files('./E19_data/psp_df_29_30_median_filtered.csv')\n",
    "vp_29_30_median_filtered= load_csv_files('./E19_data/vp_29_30_median_filtered.csv')\n",
    "\n",
    "\n",
    "solo_data_median_filtered=load_csv_files('./E19_data/solo_data_median_filtered.csv')\n",
    "vp_Solo_4_7_13_median_filtered=load_csv_files('./E19_data/vp_Solo_4_7_13_median_filtered.csv')\n",
    "\n",
    "\n",
    "psp_df_17_21_median_filtered=load_csv_files('./E19_data/psp_df_17_21_median_filtered.csv')\n",
    "vp_17_21_median_filtered=load_csv_files('./E19_data/vp_17_21_median_filtered.csv')\n",
    "\n",
    "\n",
    "l1_data_median_filtered=load_csv_files('./E19_data/l1_data_median_filtered.csv')\n",
    "vp_Wind_4_7_13_median_filtered=load_csv_files('./E19_data/vp_Wind_4_7_13_median_filtered.csv')\n",
    "\n",
    "\n",
    "psp_df_4_7_13_median_filtered=load_csv_files('./E19_data/psp_df_4_7_13_median_filtered.csv')\n",
    "vp_4_7_13_median_filtered=load_csv_files('./E19_data/vp_4_7_13_median_filtered.csv')"
   ]
  },
  {
   "cell_type": "code",
   "execution_count": 4,
   "id": "4e24e887",
   "metadata": {},
   "outputs": [],
   "source": [
    "# perihelion\n",
    "L1 = psp_df_29_30_median_filtered['source_surface_longitude']  # Longitude for B1\n",
    "B1 = psp_df_29_30_median_filtered['Br'] * psp_df_29_30_median_filtered['R^2']  # Magnetic field data B1\n",
    "L1_v = vp_29_30_median_filtered['source_surface_longitude']  # Longitude for V1\n",
    "V1 = vp_29_30_median_filtered['vp']  # Velocity data  V1\n",
    "\n",
    "#SolO\n",
    "L2 = solo_data_median_filtered['source_surface_longitude'] \n",
    "B2 = solo_data_median_filtered['Br'] * solo_data_median_filtered['R^2']  \n",
    "L2_v = vp_Solo_4_7_13_median_filtered['source_surface_longitude']  \n",
    "V2 = vp_Solo_4_7_13_median_filtered['vp']  \n",
    "\n",
    "\n",
    "#Inbound\n",
    "L3=psp_df_17_21_median_filtered['source_surface_longitude']\n",
    "B3=psp_df_17_21_median_filtered['Br']*psp_df_17_21_median_filtered['R^2']\n",
    "L3_v=vp_17_21_median_filtered['source_surface_longitude']\n",
    "V3=vp_17_21_median_filtered['vp']\n",
    "\n",
    "\n",
    "#Wind\n",
    "L4=l1_data_median_filtered['source_surface_longitude']\n",
    "B4=l1_data_median_filtered['Br']*l1_data_median_filtered['R^2']\n",
    "L4_v=vp_Wind_4_7_13_median_filtered['source_surface_longitude']\n",
    "V4=vp_Wind_4_7_13_median_filtered['vp']\n",
    "\n",
    "\n",
    "#Outbound\n",
    "L5=psp_df_4_7_13_median_filtered['source_surface_longitude']\n",
    "B5=psp_df_4_7_13_median_filtered['Br']*psp_df_4_7_13_median_filtered['R^2']\n",
    "L5_v=vp_4_7_13_median_filtered['source_surface_longitude']\n",
    "V5=vp_4_7_13_median_filtered['vp']\n"
   ]
  },
  {
   "cell_type": "code",
   "execution_count": 5,
   "id": "44c1dd55",
   "metadata": {},
   "outputs": [],
   "source": [
    "import numpy as np\n",
    "import matplotlib.pyplot as plt\n",
    "from ipywidgets import interact, FloatSlider\n",
    "\n",
    "# plotting function \n",
    "def plot_segments(L, B, boundary1, boundary2, boundary3, boundary4, boundary5, boundary6, boundary7, ylabel):\n",
    "    plt.figure(figsize=(10, 6))\n",
    "    plt.plot(L, B, color='gray', alpha=0.3, label=\"Full Data\")\n",
    "    \n",
    "    # Define and plot each segment based on boundaries\n",
    "    mask1 = (L <= boundary1)\n",
    "    mask2 = (L > boundary1) & (L <= boundary2)\n",
    "    mask3 = (L > boundary2) & (L <= boundary3)\n",
    "    mask4 = (L > boundary3) & (L <= boundary4)\n",
    "    mask5 = (L > boundary4) & (L <= boundary5)\n",
    "    mask6 = (L > boundary5) & (L <= boundary6)\n",
    "    mask7 = (L > boundary6) & (L <= boundary7)\n",
    "    mask8 = (L > boundary7)\n",
    "    \n",
    "    plt.plot(L[mask1], B[mask1], color='blue', label=\"Segment 1\")\n",
    "    plt.plot(L[mask2], B[mask2], color='green', label=\"Segment 2\")\n",
    "    plt.plot(L[mask3], B[mask3], color='orange', label=\"Segment 3\")\n",
    "    plt.plot(L[mask4], B[mask4], color='red', label=\"Segment 4\")\n",
    "    plt.plot(L[mask5], B[mask5], color='purple', label=\"Segment 5\")\n",
    "    plt.plot(L[mask6], B[mask6], color='brown', label=\"Segment 6\")\n",
    "    plt.plot(L[mask7], B[mask7], color='magenta', label=\"Segment 7\")\n",
    "    plt.plot(L[mask8], B[mask8], color='cyan', label=\"Segment 8\")\n",
    "    \n",
    "    plt.xlabel(\"SS Longitude (degrees)\")\n",
    "    plt.ylabel(ylabel)\n",
    "    plt.legend()\n",
    "    plt.grid(True)\n",
    "    \n",
    "    plt.show()\n",
    "\n",
    "from ipywidgets import FloatSlider, interact\n",
    "\n",
    "def generate_set_code(set_num):\n",
    "    # define the sliders for the specified set number\n",
    "    sliders = {\n",
    "        f'boundary1_slider_set{set_num}': FloatSlider(value=40, min=0, max=360, step=1, description='green'),\n",
    "        f'boundary2_slider_set{set_num}': FloatSlider(value=80, min=0, max=360, step=1, description='orange'),\n",
    "        f'boundary3_slider_set{set_num}': FloatSlider(value=120, min=0, max=360, step=1, description='red'),\n",
    "        f'boundary4_slider_set{set_num}': FloatSlider(value=160, min=0, max=360, step=1, description='purple'),\n",
    "        f'boundary5_slider_set{set_num}': FloatSlider(value=200, min=0, max=360, step=1, description='brown'),\n",
    "        f'boundary6_slider_set{set_num}': FloatSlider(value=240, min=0, max=360, step=1, description='magenta'),\n",
    "        f'boundary7_slider_set{set_num}': FloatSlider(value=280, min=0, max=360, step=1, description='cyan'),\n",
    "    }\n",
    "\n",
    "    \n",
    "    boundary1_slider = sliders[f'boundary1_slider_set{set_num}']\n",
    "    boundary2_slider = sliders[f'boundary2_slider_set{set_num}']\n",
    "    boundary3_slider = sliders[f'boundary3_slider_set{set_num}']\n",
    "    boundary4_slider = sliders[f'boundary4_slider_set{set_num}']\n",
    "    boundary5_slider = sliders[f'boundary5_slider_set{set_num}']\n",
    "    boundary6_slider = sliders[f'boundary6_slider_set{set_num}']\n",
    "    boundary7_slider = sliders[f'boundary7_slider_set{set_num}']\n",
    "    \n",
    "    # Using the constraint function to keep sliders in ascending order\n",
    "    def update_constraints(*args):\n",
    "        if boundary2_slider.value > boundary1_slider.value:\n",
    "            boundary2_slider.min = boundary1_slider.value + 1\n",
    "        if boundary3_slider.value > boundary2_slider.value:\n",
    "            boundary3_slider.min = boundary2_slider.value + 1\n",
    "        if boundary4_slider.value > boundary3_slider.value:\n",
    "            boundary4_slider.min = boundary3_slider.value + 1\n",
    "        if boundary5_slider.value > boundary4_slider.value:\n",
    "            boundary5_slider.min = boundary4_slider.value + 1\n",
    "        if boundary6_slider.value > boundary5_slider.value:\n",
    "            boundary6_slider.min = boundary5_slider.value + 1\n",
    "        if boundary7_slider.value > boundary6_slider.value:\n",
    "            boundary7_slider.min = boundary6_slider.value + 1\n",
    "\n",
    "    # Using .observe for dynamic updating\n",
    "    for slider in sliders.values():\n",
    "        slider.observe(update_constraints, 'value')\n",
    "\n",
    "    # Interactive plot for magnetic field data (B vs L) with sliders, labeled as \"Br\"\n",
    "    interact(lambda boundary1, boundary2, boundary3, boundary4, boundary5, boundary6, boundary7:\n",
    "             plot_segments(globals()[f'L{set_num}'], globals()[f'B{set_num}'], boundary1, boundary2, boundary3, boundary4, boundary5, boundary6, boundary7, ylabel=\"Br*R^2\"),\n",
    "             boundary1=boundary1_slider, boundary2=boundary2_slider, boundary3=boundary3_slider,\n",
    "             boundary4=boundary4_slider, boundary5=boundary5_slider, boundary6=boundary6_slider, boundary7=boundary7_slider)\n",
    "\n",
    "    # Interactive plot for velocity data (V vs L_v) with sliders, labeled as \"V [km/s]\"\n",
    "    interact(lambda boundary1, boundary2, boundary3, boundary4, boundary5, boundary6, boundary7:\n",
    "             plot_segments(globals()[f'L{set_num}_v'], globals()[f'V{set_num}'], boundary1, boundary2, boundary3, boundary4, boundary5, boundary6, boundary7, ylabel=\"Vp[km/s]\"),\n",
    "             boundary1=boundary1_slider, boundary2=boundary2_slider, boundary3=boundary3_slider,\n",
    "             boundary4=boundary4_slider, boundary5=boundary5_slider, boundary6=boundary6_slider, boundary7=boundary7_slider)\n"
   ]
  },
  {
   "cell_type": "code",
   "execution_count": 6,
   "id": "3c5e36d9",
   "metadata": {},
   "outputs": [
    {
     "data": {
      "application/vnd.jupyter.widget-view+json": {
       "model_id": "d6fe353524374128b66d75c739ca845c",
       "version_major": 2,
       "version_minor": 0
      },
      "text/plain": [
       "interactive(children=(FloatSlider(value=40.0, description='green', max=360.0, step=1.0), FloatSlider(value=80.…"
      ]
     },
     "metadata": {},
     "output_type": "display_data"
    },
    {
     "data": {
      "application/vnd.jupyter.widget-view+json": {
       "model_id": "6782418cc2d54fdfae571f4d4f85d849",
       "version_major": 2,
       "version_minor": 0
      },
      "text/plain": [
       "interactive(children=(FloatSlider(value=40.0, description='green', max=360.0, step=1.0), FloatSlider(value=80.…"
      ]
     },
     "metadata": {},
     "output_type": "display_data"
    }
   ],
   "source": [
    "# Set 1, perihelion\n",
    "generate_set_code(1)\n"
   ]
  },
  {
   "cell_type": "code",
   "execution_count": 7,
   "id": "cbe3402f",
   "metadata": {},
   "outputs": [
    {
     "data": {
      "application/vnd.jupyter.widget-view+json": {
       "model_id": "e4ee81d8a7c44d06b393aeb42533f17a",
       "version_major": 2,
       "version_minor": 0
      },
      "text/plain": [
       "interactive(children=(FloatSlider(value=40.0, description='green', max=360.0, step=1.0), FloatSlider(value=80.…"
      ]
     },
     "metadata": {},
     "output_type": "display_data"
    },
    {
     "data": {
      "application/vnd.jupyter.widget-view+json": {
       "model_id": "8874a721e2db479daed668a4a1af32fe",
       "version_major": 2,
       "version_minor": 0
      },
      "text/plain": [
       "interactive(children=(FloatSlider(value=40.0, description='green', max=360.0, step=1.0), FloatSlider(value=80.…"
      ]
     },
     "metadata": {},
     "output_type": "display_data"
    }
   ],
   "source": [
    "# Set 2, SolO\n",
    "generate_set_code(2)\n"
   ]
  },
  {
   "cell_type": "code",
   "execution_count": 8,
   "id": "4c4a6fd8",
   "metadata": {},
   "outputs": [
    {
     "data": {
      "application/vnd.jupyter.widget-view+json": {
       "model_id": "93bd8236e23447318340a0cfa3216a20",
       "version_major": 2,
       "version_minor": 0
      },
      "text/plain": [
       "interactive(children=(FloatSlider(value=40.0, description='green', max=360.0, step=1.0), FloatSlider(value=80.…"
      ]
     },
     "metadata": {},
     "output_type": "display_data"
    },
    {
     "data": {
      "application/vnd.jupyter.widget-view+json": {
       "model_id": "7bd3d7d6932c48bbb08102cf672f9a5c",
       "version_major": 2,
       "version_minor": 0
      },
      "text/plain": [
       "interactive(children=(FloatSlider(value=40.0, description='green', max=360.0, step=1.0), FloatSlider(value=80.…"
      ]
     },
     "metadata": {},
     "output_type": "display_data"
    }
   ],
   "source": [
    "# Set 3, Inbound\n",
    "generate_set_code(3)\n"
   ]
  },
  {
   "cell_type": "code",
   "execution_count": 9,
   "id": "8acdc963",
   "metadata": {},
   "outputs": [
    {
     "data": {
      "application/vnd.jupyter.widget-view+json": {
       "model_id": "6b4b8898a2b4470daadda6befaaa6e49",
       "version_major": 2,
       "version_minor": 0
      },
      "text/plain": [
       "interactive(children=(FloatSlider(value=40.0, description='green', max=360.0, step=1.0), FloatSlider(value=80.…"
      ]
     },
     "metadata": {},
     "output_type": "display_data"
    },
    {
     "data": {
      "application/vnd.jupyter.widget-view+json": {
       "model_id": "1cc8ef7e04934cc7bac2e8a3c4e958b6",
       "version_major": 2,
       "version_minor": 0
      },
      "text/plain": [
       "interactive(children=(FloatSlider(value=40.0, description='green', max=360.0, step=1.0), FloatSlider(value=80.…"
      ]
     },
     "metadata": {},
     "output_type": "display_data"
    }
   ],
   "source": [
    "# Set 4, Wind\n",
    "generate_set_code(4)\n"
   ]
  },
  {
   "cell_type": "code",
   "execution_count": 10,
   "id": "77e6aefa",
   "metadata": {},
   "outputs": [
    {
     "data": {
      "application/vnd.jupyter.widget-view+json": {
       "model_id": "36c419e4db324c038cbe6c2983bd2193",
       "version_major": 2,
       "version_minor": 0
      },
      "text/plain": [
       "interactive(children=(FloatSlider(value=40.0, description='green', max=360.0, step=1.0), FloatSlider(value=80.…"
      ]
     },
     "metadata": {},
     "output_type": "display_data"
    },
    {
     "data": {
      "application/vnd.jupyter.widget-view+json": {
       "model_id": "48c6c530ca99457e83c01a97ef08a55e",
       "version_major": 2,
       "version_minor": 0
      },
      "text/plain": [
       "interactive(children=(FloatSlider(value=40.0, description='green', max=360.0, step=1.0), FloatSlider(value=80.…"
      ]
     },
     "metadata": {},
     "output_type": "display_data"
    }
   ],
   "source": [
    "# Set 5, Outbound\n",
    "generate_set_code(5)\n"
   ]
  },
  {
   "cell_type": "code",
   "execution_count": null,
   "id": "e05ee350",
   "metadata": {},
   "outputs": [],
   "source": []
  },
  {
   "cell_type": "code",
   "execution_count": null,
   "id": "4d5d109c",
   "metadata": {},
   "outputs": [],
   "source": []
  },
  {
   "cell_type": "code",
   "execution_count": null,
   "id": "a99b64d1",
   "metadata": {},
   "outputs": [],
   "source": []
  },
  {
   "cell_type": "code",
   "execution_count": null,
   "id": "5bc0f16f",
   "metadata": {},
   "outputs": [],
   "source": []
  },
  {
   "cell_type": "code",
   "execution_count": null,
   "id": "94b942ec",
   "metadata": {},
   "outputs": [],
   "source": []
  },
  {
   "cell_type": "code",
   "execution_count": null,
   "id": "0601a5ec",
   "metadata": {},
   "outputs": [],
   "source": []
  },
  {
   "cell_type": "code",
   "execution_count": null,
   "id": "b20c8d37",
   "metadata": {},
   "outputs": [],
   "source": []
  },
  {
   "cell_type": "code",
   "execution_count": null,
   "id": "2f6a2734",
   "metadata": {},
   "outputs": [],
   "source": []
  },
  {
   "cell_type": "code",
   "execution_count": null,
   "id": "46f24987",
   "metadata": {},
   "outputs": [],
   "source": []
  },
  {
   "cell_type": "code",
   "execution_count": null,
   "id": "0e104ecf",
   "metadata": {},
   "outputs": [],
   "source": []
  },
  {
   "cell_type": "code",
   "execution_count": null,
   "id": "2dd05487",
   "metadata": {},
   "outputs": [],
   "source": []
  }
 ],
 "metadata": {
  "kernelspec": {
   "display_name": "Python 3",
   "language": "python",
   "name": "python3"
  },
  "language_info": {
   "codemirror_mode": {
    "name": "ipython",
    "version": 3
   },
   "file_extension": ".py",
   "mimetype": "text/x-python",
   "name": "python",
   "nbconvert_exporter": "python",
   "pygments_lexer": "ipython3",
   "version": "3.8.15"
  }
 },
 "nbformat": 4,
 "nbformat_minor": 5
}
